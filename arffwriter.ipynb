{
 "cells": [
  {
   "cell_type": "code",
   "execution_count": 1,
   "metadata": {},
   "outputs": [],
   "source": [
    "from __future__ import print_function\n",
    "import numpy as np\n",
    "\n",
    "class Metadata:\n",
    "\tdef __init__(self, relation_name, attNames):\n",
    "\t\tself.name = relation_name\n",
    "\t\tself.names = attNames\n",
    "\n",
    "\tdef names(self):\n",
    "\t\treturn self.names\n",
    "\n",
    "def write_arff(instances, supervision, metadata):\n",
    "        print(\"@relation\", metadata.name)\n",
    "        classVals = '{' + \",\".join([a for a in np.unique(supervision)]) + '}'\n",
    "        for attName in metadata.names:\n",
    "                if not attName == 'class':\n",
    "                        print(\"@attribute\", attName, \"numeric\")\n",
    "                else:\n",
    "                        print(\"@attribute\", \"class\", classVals)\n",
    "        print(\"@data\")\n",
    "        for i in xrange(instances.shape[0]):\n",
    "                for val in instances[i,:]:\n",
    "                        print(val, \",\", end = '', sep = '')\n",
    "                print(supervision[i])\n"
   ]
  },
  {
   "cell_type": "code",
   "execution_count": null,
   "metadata": {},
   "outputs": [],
   "source": []
  }
 ],
 "metadata": {
  "kernelspec": {
   "display_name": "Python 2",
   "language": "python",
   "name": "python2"
  },
  "language_info": {
   "codemirror_mode": {
    "name": "ipython",
    "version": 2
   },
   "file_extension": ".py",
   "mimetype": "text/x-python",
   "name": "python",
   "nbconvert_exporter": "python",
   "pygments_lexer": "ipython2",
   "version": "2.7.16"
  }
 },
 "nbformat": 4,
 "nbformat_minor": 2
}
