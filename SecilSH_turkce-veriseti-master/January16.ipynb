{
 "cells": [
  {
   "cell_type": "code",
   "execution_count": 1,
   "metadata": {},
   "outputs": [],
   "source": [
    "import warnings\n",
    "warnings.filterwarnings('ignore')"
   ]
  },
  {
   "cell_type": "code",
   "execution_count": 2,
   "metadata": {},
   "outputs": [],
   "source": [
    "# read csv file:\n",
    "handle=open('./SecilSH_turkce-veriseti-master/turkce_veriseti.csv',encoding=\"utf-8\")\n",
    "# Kayıt deseni: \"Ana Kategori\", Alt Kategori, Website Adresi,  DMOZ Başlığı, DMOZ Açıklaması, Website Başlığı, Website Meta Açıklaması, Website Meta Kelimeleri, \"Website İçeriği\""
   ]
  },
  {
   "cell_type": "code",
   "execution_count": 3,
   "metadata": {},
   "outputs": [
    {
     "name": "stdout",
     "output_type": "stream",
     "text": [
      "\"Çocuklar_ve_Gençler\"\n",
      "done\n"
     ]
    }
   ],
   "source": [
    "categories_data= {} #dictionary\n",
    "for line in handle:\n",
    "    my_list= line.split(',')\n",
    "    main_category= my_list[0]\n",
    "    main_category= main_category[1:-1]\n",
    "    content= my_list[-1]\n",
    "    content= content[1:-1]\n",
    "   \n",
    "    if main_category not in categories_data.keys():\n",
    "        categories_data[main_category]= []\n",
    "    categories_data[main_category].append(content)\n",
    "print(my_list[0])\n",
    "print(\"done\")\n"
   ]
  },
  {
   "cell_type": "code",
   "execution_count": 4,
   "metadata": {},
   "outputs": [],
   "source": [
    "import os.path\n",
    "for cat in categories_data.keys():\n",
    "    # create a new file:\n",
    "    file_name= \"./data/\"+ cat+\".txt\" # indicates after the current folder: ./\n",
    "    with open(file_name,\"w\",encoding=\"utf8\") as f: # +: create if not exists\n",
    "        for item in categories_data[cat]:\n",
    "                item = item.replace(' \"','')\n",
    "                f.write(item+'\\n')\n",
    "    f.close()\n",
    "           # print(item)\n"
   ]
  },
  {
   "cell_type": "code",
   "execution_count": 5,
   "metadata": {},
   "outputs": [],
   "source": [
    "# Corpus reader:\n",
    "import os\n",
    "root = './data/'\n",
    "from nltk.corpus.reader import CategorizedPlaintextCorpusReader\n",
    "reader = CategorizedPlaintextCorpusReader(root, r'.*\\.txt', cat_pattern=r'(\\w+)/*', encoding='utf-8')"
   ]
  },
  {
   "cell_type": "code",
   "execution_count": 6,
   "metadata": {},
   "outputs": [
    {
     "name": "stdout",
     "output_type": "stream",
     "text": [
      "['Alışveriş', 'Basın_ve_Yayın', 'Bilgisayar', 'Bilim', 'Ekonomi_ve_İş_Dünyası', 'Ev', 'Eğlence_ve_Yaşam', 'Kaynaklar', 'Kültür_ve_Sanat', 'Oyunlar', 'Sağlık', 'Spor', 'Toplum', 'Çocuklar_ve_Gençler']\n",
      "['Alışveriş.txt', 'Basın_ve_Yayın.txt', 'Bilgisayar.txt', 'Bilim.txt', 'Ekonomi_ve_İş_Dünyası.txt', 'Ev.txt', 'Eğlence_ve_Yaşam.txt', 'Kaynaklar.txt', 'Kültür_ve_Sanat.txt', 'Oyunlar.txt', 'Sağlık.txt', 'Spor.txt', 'Toplum.txt', 'Çocuklar_ve_Gençler.txt']\n"
     ]
    }
   ],
   "source": [
    "print(reader.categories())\n",
    "print(reader.fileids())\n"
   ]
  },
  {
   "cell_type": "code",
   "execution_count": 7,
   "metadata": {},
   "outputs": [],
   "source": [
    "def sent_tokenize_whole_tweets(text): # raw text --> whole tweets file content\n",
    "    sents = text.split('\\n')\n",
    "    for s in sents:\n",
    "        s= s.strip() # removes whitespaces in both end\n",
    "    return sents"
   ]
  },
  {
   "cell_type": "code",
   "execution_count": 8,
   "metadata": {
    "scrolled": true
   },
   "outputs": [
    {
     "name": "stdout",
     "output_type": "stream",
     "text": [
      "22347\n",
      "22347\n"
     ]
    }
   ],
   "source": [
    "all_text=[]\n",
    "labels= []\n",
    "count=0\n",
    "for label,file_name in zip(reader.categories(), reader.fileids()):\n",
    "    sentences= sent_tokenize_whole_tweets(reader.raw(file_name)) # --> this should return a list of contents\n",
    "    labels.extend([label for i in sentences[:-1]]) # son satırı sil\n",
    "    #labels.remove(labels[-1])\n",
    "    all_text.extend([i for i in sentences[:-1]]) # son satırı sil\n",
    "    #all_text.remove(all_text[-1])\n",
    "    #print('Dosya adı:'+file_name+'DENEMEE')\n",
    "#print(len(sentences))\n",
    "print(len(labels))\n",
    "print(len(all_text))\n",
    "# Now, we have all tweets in all_text list!"
   ]
  },
  {
   "cell_type": "raw",
   "metadata": {},
   "source": [
    "# Bunu burada çalıştırmıyoruz, CX sırasında her bir fold ayrı işleniyor!\n",
    "# CountVectorizer: Convert a collection of text documents to a matrix of token counts\n",
    "from sklearn.feature_extraction.text import CountVectorizer\n",
    "vectorizer = CountVectorizer()\n",
    "\n",
    "X = vectorizer.fit_transform(all_text)\n",
    "\n",
    "# print(vectorizer.get_feature_names())\n",
    "print(X.shape)"
   ]
  },
  {
   "cell_type": "raw",
   "metadata": {},
   "source": [
    "# Burası da aynı şekilde\n",
    "#Using the Count Vectorizer, create a binary count vectorizer:\n",
    "import numpy as np\n",
    "print((X.toarray()).shape[0])\n",
    "print((X.toarray()).shape[1])\n",
    "X_binary= np.zeros(((X.toarray()).shape[0],(X.toarray()).shape[1]))\n",
    "for i in range(len(X.toarray())):\n",
    "    for j in range(len(X.toarray()[i])):\n",
    "        if X.toarray()[i,j]>0:\n",
    "            X_binary[i,j]= True\n",
    "        else:\n",
    "            X_binary[i,j]= False\n",
    "print(X_binary.shape)"
   ]
  },
  {
   "cell_type": "raw",
   "metadata": {},
   "source": [
    "# Use the resultant sparse matrix of CountVectorizer to generate tf Matrix:\n",
    "#Tf:\n",
    "from sklearn.feature_extraction.text import TfidfTransformer\n",
    "transformer_tf= TfidfTransformer(use_idf= False, norm=None)\n",
    "\n",
    "X_tf= transformer_tf.fit_transform(X)"
   ]
  },
  {
   "cell_type": "raw",
   "metadata": {},
   "source": [
    "# Use the resultant sparse matrix of CountVectorizer to generate tf-idf Matrix:\n",
    "#Tf-idf:\n",
    "transformer_tfidf= TfidfTransformer(use_idf= True, norm=None)\n",
    "\n",
    "X_tfidf= transformer_tfidf.fit_transform(X)\n",
    "print(X_tfidf.toarray()) "
   ]
  },
  {
   "cell_type": "code",
   "execution_count": 9,
   "metadata": {},
   "outputs": [],
   "source": [
    "import numpy as np\n",
    "\n",
    "all_text= np.array(all_text)\n"
   ]
  },
  {
   "cell_type": "code",
   "execution_count": 10,
   "metadata": {},
   "outputs": [],
   "source": [
    "labels= np.array(labels)"
   ]
  },
  {
   "cell_type": "code",
   "execution_count": 11,
   "metadata": {},
   "outputs": [
    {
     "name": "stdout",
     "output_type": "stream",
     "text": [
      "MultinomialNB(alpha=1.0, class_prior=None, fit_prior=True)\n",
      "fold 1 accuracy: 0.715977653631285\n",
      "fold 2 accuracy: 0.7195885509838998\n",
      "fold 3 accuracy: 0.7239991053455602\n",
      "fold 4 accuracy: 0.7203313927451859\n",
      "fold 5 accuracy: 0.7174546269325566\n",
      "Mean score: 0.7194702659276976\n",
      " \n",
      "LinearSVC(C=1.0, class_weight=None, dual=True, fit_intercept=True,\n",
      "     intercept_scaling=1, loss='squared_hinge', max_iter=1000,\n",
      "     multi_class='ovr', penalty='l2', random_state=None, tol=0.0001,\n",
      "     verbose=0)\n",
      "fold 1 accuracy: 0.6712849162011173\n",
      "fold 2 accuracy: 0.669051878354204\n",
      "fold 3 accuracy: 0.6736747931111609\n",
      "fold 4 accuracy: 0.670846394984326\n",
      "fold 5 accuracy: 0.6668160430203899\n",
      "Mean score: 0.6703348051342395\n",
      " \n"
     ]
    }
   ],
   "source": [
    "# WITH UNIGRAM COUNT VECTORIZER:\n",
    "import numpy as np\n",
    "from sklearn.naive_bayes import MultinomialNB\n",
    "from sklearn.svm import LinearSVC\n",
    "\n",
    "from sklearn.model_selection import StratifiedKFold \n",
    "from sklearn.feature_extraction.text import CountVectorizer\n",
    "from sklearn.metrics import accuracy_score\n",
    "# The folds are made by preserving the percentage of samples for each class.\n",
    "# use the original data, all_text!\n",
    "\n",
    "list_classifier= [MultinomialNB(), LinearSVC()]\n",
    "\n",
    "for clf in list_classifier:\n",
    "    print(clf)\n",
    "    skf = StratifiedKFold(n_splits=5,shuffle=True, random_state=123)\n",
    "    scores= []\n",
    "    i= 1\n",
    "    for train_index, test_index in skf.split(all_text, labels):\n",
    "        X_train, y_train = all_text[train_index], labels[train_index] \n",
    "        X_test, y_test = all_text[test_index], labels[test_index]\n",
    "\n",
    "        train_vectorizer = CountVectorizer()\n",
    "        X_train = train_vectorizer.fit_transform(X_train)\n",
    "        train_vocab= train_vectorizer.vocabulary_   \n",
    "        test_vectorizer = CountVectorizer(vocabulary=train_vocab) # train_vocab is being used!\n",
    "        X_test = test_vectorizer.fit_transform(X_test)\n",
    "        clf.fit(X_train, y_train)\n",
    "        sc= accuracy_score(y_test, clf.predict(X_test))\n",
    "        scores.append(sc)\n",
    "        print(\"fold \"+ str(i)+ \" accuracy: \"+ str(sc))\n",
    "        i+= 1\n",
    "    print(\"Mean score: \"+ str(np.mean(scores)))\n",
    "    print(\" \")"
   ]
  },
  {
   "cell_type": "code",
   "execution_count": 12,
   "metadata": {},
   "outputs": [
    {
     "name": "stdout",
     "output_type": "stream",
     "text": [
      "MultinomialNB(alpha=1.0, class_prior=None, fit_prior=True)\n",
      "fold 1 accuracy: 0.6451396648044693\n",
      "fold 2 accuracy: 0.6435599284436494\n",
      "fold 3 accuracy: 0.6445985238201745\n",
      "fold 4 accuracy: 0.6560680698611733\n",
      "fold 5 accuracy: 0.6446336544924939\n",
      "Mean score: 0.646799968284392\n",
      " \n",
      "LinearSVC(C=1.0, class_weight=None, dual=True, fit_intercept=True,\n",
      "     intercept_scaling=1, loss='squared_hinge', max_iter=1000,\n",
      "     multi_class='ovr', penalty='l2', random_state=None, tol=0.0001,\n",
      "     verbose=0)\n",
      "fold 1 accuracy: 0.76268156424581\n",
      "fold 2 accuracy: 0.7649821109123435\n",
      "fold 3 accuracy: 0.7711921270409304\n",
      "fold 4 accuracy: 0.7662337662337663\n",
      "fold 5 accuracy: 0.773022630517589\n",
      "Mean score: 0.7676224397900878\n",
      " \n"
     ]
    }
   ],
   "source": [
    "# WITH UNIGRAM TF-idf VECTORIZER:\n",
    "import numpy as np\n",
    "from sklearn.naive_bayes import MultinomialNB\n",
    "from sklearn.svm import LinearSVC\n",
    "\n",
    "from sklearn.model_selection import StratifiedKFold \n",
    "from sklearn.feature_extraction.text import CountVectorizer\n",
    "from sklearn.metrics import accuracy_score\n",
    "# The folds are made by preserving the percentage of samples for each class.\n",
    "# use the original data, all_text!\n",
    "\n",
    "\n",
    "from sklearn.feature_extraction.text import TfidfTransformer\n",
    "\n",
    "list_classifier= [MultinomialNB(), LinearSVC()]\n",
    "\n",
    "for clf in list_classifier:\n",
    "    print(clf)\n",
    "    skf = StratifiedKFold(n_splits=5,shuffle=True, random_state=123)\n",
    "    #all_text= np.array(all_text)\n",
    "    #labels= np.array(labels)\n",
    "    scores= []\n",
    "    i= 1\n",
    "    for train_index, test_index in skf.split(all_text, labels):\n",
    "        X_train, y_train = all_text[train_index], labels[train_index] \n",
    "        X_test, y_test = all_text[test_index], labels[test_index]\n",
    "\n",
    "        train_vectorizer = CountVectorizer()\n",
    "        X_train = train_vectorizer.fit_transform(X_train)\n",
    "        transformer_tf= TfidfTransformer(use_idf= True, norm= 'l2', smooth_idf=True) \n",
    "        # if normalize None, it is the same as CountVect\n",
    "        # l2 normalization: like percentage of values\n",
    "        X_train= transformer_tf.fit_transform(X_train)\n",
    "           \n",
    "        train_vocab= train_vectorizer.vocabulary_   \n",
    "        test_vectorizer = CountVectorizer(vocabulary=train_vocab)\n",
    "        X_test = test_vectorizer.fit_transform(X_test)\n",
    "        X_test= transformer_tf.fit_transform(X_test)\n",
    "        \n",
    "        clf.fit(X_train, y_train)\n",
    "        sc= accuracy_score(y_test, clf.predict(X_test))\n",
    "        scores.append(sc)\n",
    "        print(\"fold \"+ str(i)+ \" accuracy: \"+ str(sc))\n",
    "        i+= 1\n",
    "    print(\"Mean score: \"+ str(np.mean(scores)))\n",
    "    print(\" \")\n",
    "\n"
   ]
  },
  {
   "cell_type": "markdown",
   "metadata": {},
   "source": [
    "### Look at the following small examples to ensure that everything works as expected:"
   ]
  },
  {
   "cell_type": "code",
   "execution_count": null,
   "metadata": {},
   "outputs": [],
   "source": [
    "from sklearn.feature_extraction.text import CountVectorizer\n",
    ">>> corpus = [\n",
    "...     'This is the first document.',\n",
    "...     'This document is the second document.',\n",
    "...     'And this is the third one.',\n",
    "...     'Is this the first document?',\n",
    "... ]\n",
    "vectorizer = CountVectorizer()\n",
    "X = vectorizer.fit_transform(corpus)\n",
    "print(vectorizer.get_feature_names())\n",
    "print(X.toarray())  "
   ]
  },
  {
   "cell_type": "code",
   "execution_count": null,
   "metadata": {},
   "outputs": [],
   "source": []
  },
  {
   "cell_type": "code",
   "execution_count": null,
   "metadata": {},
   "outputs": [],
   "source": [
    "from sklearn.feature_extraction.text import TfidfTransformer\n",
    "transformer_tf= TfidfTransformer(use_idf= False, norm=None)\n",
    "\n",
    "X_tf= transformer_tf.fit_transform(X)\n",
    "print(X_tf.toarray())  "
   ]
  },
  {
   "cell_type": "code",
   "execution_count": null,
   "metadata": {},
   "outputs": [],
   "source": [
    "transformer_tfidf= TfidfTransformer(use_idf= True, norm=None)\n",
    "\n",
    "X_tfidf= transformer_tfidf.fit_transform(X)\n",
    "print(X_tfidf.toarray()) "
   ]
  },
  {
   "cell_type": "code",
   "execution_count": null,
   "metadata": {},
   "outputs": [],
   "source": [
    "import numpy as np\n",
    "print((X.toarray()).shape[0])\n",
    "print((X.toarray()).shape[1])\n",
    "X_binary= np.zeros(((X.toarray()).shape[0],(X.toarray()).shape[1]))\n",
    "print(X_binary.shape)\n",
    "for i in range(len(X.toarray())):\n",
    "    for j in range(len(X.toarray()[i])):\n",
    "        if X.toarray()[i,j]>0:\n",
    "            X_binary[i,j]= True\n",
    "        else:\n",
    "            X_binary[i,j]= False\n",
    "print(X_binary)"
   ]
  },
  {
   "cell_type": "code",
   "execution_count": null,
   "metadata": {},
   "outputs": [],
   "source": []
  },
  {
   "cell_type": "code",
   "execution_count": null,
   "metadata": {},
   "outputs": [],
   "source": []
  },
  {
   "cell_type": "code",
   "execution_count": null,
   "metadata": {},
   "outputs": [],
   "source": []
  }
 ],
 "metadata": {
  "kernelspec": {
   "display_name": "Python 3",
   "language": "python",
   "name": "python3"
  },
  "language_info": {
   "codemirror_mode": {
    "name": "ipython",
    "version": 3
   },
   "file_extension": ".py",
   "mimetype": "text/x-python",
   "name": "python",
   "nbconvert_exporter": "python",
   "pygments_lexer": "ipython3",
   "version": "3.7.3"
  }
 },
 "nbformat": 4,
 "nbformat_minor": 2
}
