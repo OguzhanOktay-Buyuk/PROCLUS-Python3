{
 "cells": [
  {
   "cell_type": "code",
   "execution_count": 11,
   "metadata": {},
   "outputs": [],
   "source": [
    "import matplotlib.pyplot as plt\n",
    "import numpy as np\n",
    "\n",
    "def plotDataset(X, D):\n",
    "\tplt.clf()\n",
    "\tplt.plot(X[:,D[0]], X[:,D[1]], 'bo')\n",
    "\tplt.xlabel('X' + str(D[0]))\n",
    "\tplt.ylabel('X' + str(D[1]))\n",
    "\tplt.show()\n",
    "\tplt.draw()\n",
    "\n",
    "def plotClustering(X, M, A, D):\n",
    "\t\"\"\" Plot a proclus clustering result.\n",
    "\t\tX: the data matrix\n",
    "\t\tM: medoid indices\n",
    "\t\tA: cluster assignments\n",
    "\t\tD: dimensions to plot\n",
    "\t\"\"\"\n",
    "\tplt.clf()\n",
    "\tplt.xlabel('X' + str(D[0]))\n",
    "\tplt.ylabel('X' + str(D[1]))\n",
    "\td1, d2 = D\n",
    "\tcolors = np.empty(X.shape[0], dtype = 'object')\n",
    "\tcolors[np.where(A == -1)[0]] = \"0.7\" # gray for outliers\n",
    "\tpicks = ['b', 'g', 'r', 'c', 'm', 'k', 'y', 'lightblue', 'goldenrod','darkmagenta','coral','deepskyblue','lightpink','tan']\n",
    "\n",
    "\tprint('cluster counts:')\n",
    "\tprint(np.unique(A))\n",
    "\tprint([len(np.where(A == i)[0]) for i in np.unique(A)])\n",
    "\n",
    "\ti = 0\n",
    "\tfor c in np.setdiff1d(np.unique(A), [-1]):\n",
    "\t\tif i >= len(picks):\n",
    "\t\t\traise Exception(\"used more colors than i have...\")\n",
    "\t\tcolors[np.where(A == c)[0]] = picks[i]\n",
    "\t\ti += 1\n",
    "\t\n",
    "\tplt.scatter(X[:,d1], X[:,d2], c = colors.tolist(), marker = 'o', s = 40)\n",
    "\t# plot medoids as orange diamonds:\n",
    "\tplt.plot(X[M,d1], X[M,d2], marker = 'D', mfc = '#FFFF4D', ms = 7, ls = '')\n",
    "\t#plt.show()\n",
    "\t#plt.draw()\n",
    "\tplt.rcParams[\"figure.figsize\"] = [50,50]\n"
   ]
  },
  {
   "cell_type": "code",
   "execution_count": null,
   "metadata": {},
   "outputs": [],
   "source": []
  }
 ],
 "metadata": {
  "kernelspec": {
   "display_name": "Python 3",
   "language": "python",
   "name": "python3"
  },
  "language_info": {
   "codemirror_mode": {
    "name": "ipython",
    "version": 3
   },
   "file_extension": ".py",
   "mimetype": "text/x-python",
   "name": "python",
   "nbconvert_exporter": "python",
   "pygments_lexer": "ipython3",
   "version": "3.7.3"
  }
 },
 "nbformat": 4,
 "nbformat_minor": 2
}
