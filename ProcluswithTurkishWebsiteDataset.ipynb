{
 "cells": [
  {
   "cell_type": "code",
   "execution_count": 19,
   "metadata": {},
   "outputs": [],
   "source": [
    "import warnings\n",
    "warnings.filterwarnings('ignore')\n",
    "# read csv file:\n",
    "handle=open('./SecilSH_turkce-veriseti-master/turkce_veriseti.csv',encoding=\"utf-8\")\n",
    "# handle=open('./SecilSH_turkce-veriseti-master/turkce_veriseti.csv')\n",
    "# Kayıt deseni: \"Ana Kategori\", Alt Kategori, Website Adresi,  DMOZ Başlığı, DMOZ Açıklaması, Website Başlığı, Website Meta Açıklaması, Website Meta Kelimeleri, \"Website İçeriği\""
   ]
  },
  {
   "cell_type": "code",
   "execution_count": 20,
   "metadata": {},
   "outputs": [
    {
     "name": "stdout",
     "output_type": "stream",
     "text": [
      "\"Çocuklar_ve_Gençler\"\n",
      "done\n"
     ]
    }
   ],
   "source": [
    "categories_data= {} #dictionary\n",
    "for line in handle:\n",
    "    my_list= line.split(',')\n",
    "    main_category= my_list[0]\n",
    "    main_category= main_category[1:-1]\n",
    "    content= my_list[-1]\n",
    "    content= content[1:-1]\n",
    "   \n",
    "    if main_category not in categories_data.keys():\n",
    "        categories_data[main_category]= []\n",
    "    categories_data[main_category].append(content)\n",
    "print(my_list[0])\n",
    "print(\"done\")\n"
   ]
  },
  {
   "cell_type": "code",
   "execution_count": 3,
   "metadata": {},
   "outputs": [],
   "source": [
    "import os.path\n",
    "for cat in categories_data.keys():\n",
    "    # create a new file:\n",
    "    file_name= \"./data/\"+ cat+\".txt\" # indicates after the current folder: ./\n",
    "    with open(file_name,\"w\",encoding=\"utf8\") as f: # +: create if not exists\n",
    "    # with open(file_name,\"w\") as f: # +: create if not exists\n",
    "        for item in categories_data[cat]:\n",
    "                item = item.replace(' \"','')\n",
    "                f.write(item+'\\n')\n",
    "    f.close()\n",
    "           # print(item)"
   ]
  },
  {
   "cell_type": "code",
   "execution_count": 4,
   "metadata": {},
   "outputs": [],
   "source": [
    "# Corpus reader:\n",
    "import os\n",
    "root = './data/'\n",
    "from nltk.corpus.reader import CategorizedPlaintextCorpusReader\n",
    "reader = CategorizedPlaintextCorpusReader(root, r'.*\\.txt', cat_pattern=r'(\\w+)/*', encoding='utf-8')\n",
    "#reader = CategorizedPlaintextCorpusReader(root, r'.*\\.txt', cat_pattern=r'(\\w+)/*')"
   ]
  },
  {
   "cell_type": "code",
   "execution_count": 22,
   "metadata": {},
   "outputs": [
    {
     "name": "stdout",
     "output_type": "stream",
     "text": [
      "['Alışveriş.txt', 'Basın_ve_Yayın.txt', 'Bilgisayar.txt', 'Bilim.txt', 'Ekonomi_ve_İş_Dünyası.txt', 'Ev.txt', 'Eğlence_ve_Yaşam.txt', 'Kaynaklar.txt', 'Kültür_ve_Sanat.txt', 'Oyunlar.txt', 'Sağlık.txt', 'Spor.txt', 'Toplum.txt', 'Çocuklar_ve_Gençler.txt']\n"
     ]
    }
   ],
   "source": [
    "print(reader.categories())\n",
    "print(reader.fileids())\n"
   ]
  },
  {
   "cell_type": "code",
   "execution_count": 6,
   "metadata": {},
   "outputs": [],
   "source": [
    "def sent_tokenize_whole_tweets(text): # raw text --> whole tweets file content\n",
    "    sents = text.split('\\n')\n",
    "    for s in sents:\n",
    "        s= s.strip() # removes whitespaces in both end\n",
    "    return sents"
   ]
  },
  {
   "cell_type": "code",
   "execution_count": 7,
   "metadata": {},
   "outputs": [
    {
     "name": "stdout",
     "output_type": "stream",
     "text": [
      "22347\n",
      "22347\n"
     ]
    }
   ],
   "source": [
    "all_text=[]\n",
    "labels= []\n",
    "count=0\n",
    "for label,file_name in zip(reader.categories(), reader.fileids()):\n",
    "    sentences= sent_tokenize_whole_tweets(reader.raw(file_name)) # --> this should return a list of contents\n",
    "    labels.extend([label for i in sentences[:-1]]) # son satırı sil\n",
    "    #labels.remove(labels[-1])\n",
    "    all_text.extend([i for i in sentences[:-1]]) # son satırı sil\n",
    "    #all_text.remove(all_text[-1])\n",
    "    #print('Dosya adı:'+file_name+'DENEMEE')\n",
    "#print(len(sentences))\n",
    "print(len(labels))\n",
    "print(len(all_text))\n",
    "# Now, we have all tweets in all_text list!"
   ]
  },
  {
   "cell_type": "code",
   "execution_count": 40,
   "metadata": {},
   "outputs": [
    {
     "data": {
      "text/plain": [
       "'Ekonomi_ve_İş_Dünyası'"
      ]
     },
     "execution_count": 40,
     "metadata": {},
     "output_type": "execute_result"
    }
   ],
   "source": [
    "labels[5000]"
   ]
  },
  {
   "cell_type": "code",
   "execution_count": 8,
   "metadata": {},
   "outputs": [
    {
     "name": "stdout",
     "output_type": "stream",
     "text": [
      "Wall time: 7.74 s\n",
      "(22347, 100)\n"
     ]
    }
   ],
   "source": [
    "from sklearn.feature_extraction.text import TfidfVectorizer\n",
    "\n",
    "#define vectorizer parameters\n",
    "tfidf_vectorizer = TfidfVectorizer(max_df=0.8, max_features=200000,\n",
    "                                 min_df=0.2, use_idf=True) ## en az 2 dokumanda gorulmelıç\n",
    "\n",
    "%time tfidf_matrix = tfidf_vectorizer.fit_transform(all_text) #fit the vectorizer to all_text\n",
    "\n",
    "print(tfidf_matrix.shape)"
   ]
  },
  {
   "cell_type": "code",
   "execution_count": 9,
   "metadata": {},
   "outputs": [
    {
     "data": {
      "text/plain": [
       "scipy.sparse.csr.csr_matrix"
      ]
     },
     "execution_count": 9,
     "metadata": {},
     "output_type": "execute_result"
    }
   ],
   "source": [
    "type(tfidf_matrix)"
   ]
  },
  {
   "cell_type": "code",
   "execution_count": 10,
   "metadata": {},
   "outputs": [],
   "source": [
    "X_trial= tfidf_matrix.toarray()"
   ]
  },
  {
   "cell_type": "code",
   "execution_count": 11,
   "metadata": {},
   "outputs": [
    {
     "data": {
      "text/plain": [
       "numpy.ndarray"
      ]
     },
     "execution_count": 11,
     "metadata": {},
     "output_type": "execute_result"
    }
   ],
   "source": [
    "type(X_trial)"
   ]
  },
  {
   "cell_type": "code",
   "execution_count": 12,
   "metadata": {},
   "outputs": [
    {
     "data": {
      "text/plain": [
       "(22347, 100)"
      ]
     },
     "execution_count": 12,
     "metadata": {},
     "output_type": "execute_result"
    }
   ],
   "source": [
    "X_trial.shape"
   ]
  },
  {
   "cell_type": "code",
   "execution_count": 13,
   "metadata": {},
   "outputs": [],
   "source": [
    "import numpy as np\n",
    "y_trial= np.array(labels)"
   ]
  },
  {
   "cell_type": "code",
   "execution_count": 14,
   "metadata": {},
   "outputs": [
    {
     "data": {
      "text/plain": [
       "numpy.ndarray"
      ]
     },
     "execution_count": 14,
     "metadata": {},
     "output_type": "execute_result"
    }
   ],
   "source": [
    "type(y_trial)"
   ]
  },
  {
   "cell_type": "code",
   "execution_count": 15,
   "metadata": {},
   "outputs": [
    {
     "name": "stdout",
     "output_type": "stream",
     "text": [
      "4928\n"
     ]
    },
    {
     "data": {
      "text/plain": [
       "scipy.sparse.csr.csr_matrix"
      ]
     },
     "execution_count": 15,
     "metadata": {},
     "output_type": "execute_result"
    }
   ],
   "source": [
    "print(tfidf_matrix.getcol(0).size)\n",
    "type(tfidf_matrix)"
   ]
  },
  {
   "cell_type": "code",
   "execution_count": 18,
   "metadata": {},
   "outputs": [
    {
     "name": "stdout",
     "output_type": "stream",
     "text": [
      "Using seed 1132743\n",
      "bad medoids:\n",
      "[7364, 565, 16881, 10617, 10941, 19304, 19922]\n",
      "old mcurr:\n",
      "[ 1528 14125 16392 19316  9135   693  6820   565 16881 10617 10941 19304\n",
      "  7364 19922]\n",
      "new mcurr:\n",
      "[  693  1528  6820  7350  9019  9135 10226 12234 13795 14125 16126 16392\n",
      " 16927 19316]\n",
      "finished iter: 1\n",
      "finished iter: 2\n",
      "finished iterative phase...\n",
      "Accuracy: 0.3346\n",
      "cluster counts:\n",
      "[-1.0000e+00  6.9300e+02  1.5280e+03  6.8200e+03  7.3500e+03  9.0190e+03\n",
      "  9.1350e+03  1.0226e+04  1.2234e+04  1.3795e+04  1.4125e+04  1.6126e+04\n",
      "  1.6392e+04  1.6927e+04  1.9316e+04]\n",
      "[208, 14533, 4096, 1666, 566, 381, 279, 324, 51, 101, 33, 55, 37, 3, 14]\n"
     ]
    },
    {
     "data": {
      "image/png": "[encoded data removed]",
      "text/plain": [
       "<Figure size 432x288 with 1 Axes>"
      ]
     },
     "metadata": {
      "needs_background": "light"
     },
     "output_type": "display_data"
    }
   ],
   "source": [
    "%run proclus.ipynb\n",
    "%run plotter.ipynb\n",
    "%run arffreader.ipynb\n",
    "#import numpy as np\n",
    "#import adjrand\n",
    "\n",
    "X = X_trial\n",
    "sup= y_trial\n",
    "\n",
    "Dims = [1,2]\n",
    "# plotter.plotDataset(X, D = Dims)\n",
    "\n",
    "R = 1 # toggle run proclus\n",
    "RS = 0 # toggle use random seed\n",
    "\n",
    "if R: # run proclus\n",
    "\trseed = 1132743\n",
    "\tif RS:\n",
    "\t\trseed = np.random.randint(low = 0, high = 1239831)\n",
    "\n",
    "\tprint(\"Using seed %d\" % rseed)\n",
    "\n",
    "\tM, D, A = proclus(X, k = 14, l = 2, seed = rseed)\n",
    "\tprint(\"Accuracy: %.4f\" % computeBasicAccuracy(A, sup))\n",
    "\t#print(\"Adjusted rand index: %.4f\" % adjrand.computeAdjustedRandIndex(A, sup))\n",
    "\t\n",
    "\tplotClustering(X_trial, M, A, D = Dims)"
   ]
  },
  {
   "cell_type": "code",
   "execution_count": 108,
   "metadata": {},
   "outputs": [],
   "source": [
    "keys=range(22347)\n",
    "values=y_trial #labels\n",
    "ground_truth = dict(zip(keys, values))"
   ]
  },
  {
   "cell_type": "code",
   "execution_count": 116,
   "metadata": {},
   "outputs": [],
   "source": [
    "keys_cluster= range(22347)\n",
    "values_cluster= A # A is known as assigned clusters and comes from proclus output. \n",
    "clustering = dict(zip(keys, values))"
   ]
  },
  {
   "cell_type": "code",
   "execution_count": 110,
   "metadata": {},
   "outputs": [
    {
     "name": "stdout",
     "output_type": "stream",
     "text": [
      "[6820.  693. 9135. ... 6820.  693. 1528.]\n"
     ]
    }
   ],
   "source": [
    "print(A)"
   ]
  },
  {
   "cell_type": "code",
   "execution_count": 111,
   "metadata": {},
   "outputs": [
    {
     "ename": "TypeError",
     "evalue": "unsupported operand type(s) for &: 'numpy.str_' and 'numpy.str_'",
     "output_type": "error",
     "traceback": [
      "\u001b[1;31m---------------------------------------------------------------------------\u001b[0m",
      "\u001b[1;31mTypeError\u001b[0m                                 Traceback (most recent call last)",
      "\u001b[1;32m<ipython-input-111-9bf3c85b9d8a>\u001b[0m in \u001b[0;36m<module>\u001b[1;34m\u001b[0m\n\u001b[0;32m     16\u001b[0m         title, precision, recall, fscore))\n\u001b[0;32m     17\u001b[0m \u001b[1;33m\u001b[0m\u001b[0m\n\u001b[1;32m---> 18\u001b[1;33m \u001b[0mcompute\u001b[0m\u001b[1;33m(\u001b[0m\u001b[1;34m\"Cluster Evaluation\"\u001b[0m\u001b[1;33m,\u001b[0m \u001b[0mclustering\u001b[0m\u001b[1;33m,\u001b[0m \u001b[0mground_truth\u001b[0m\u001b[1;33m)\u001b[0m\u001b[1;33m\u001b[0m\u001b[1;33m\u001b[0m\u001b[0m\n\u001b[0m\u001b[0;32m     19\u001b[0m \u001b[1;33m\u001b[0m\u001b[0m\n",
      "\u001b[1;32m<ipython-input-111-9bf3c85b9d8a>\u001b[0m in \u001b[0;36mcompute\u001b[1;34m(title, cdict, ldict)\u001b[0m\n\u001b[0;32m     10\u001b[0m \u001b[1;32mdef\u001b[0m \u001b[0mcompute\u001b[0m\u001b[1;33m(\u001b[0m\u001b[0mtitle\u001b[0m\u001b[1;33m,\u001b[0m \u001b[0mcdict\u001b[0m\u001b[1;33m,\u001b[0m \u001b[0mldict\u001b[0m\u001b[1;33m)\u001b[0m\u001b[1;33m:\u001b[0m\u001b[1;33m\u001b[0m\u001b[1;33m\u001b[0m\u001b[0m\n\u001b[0;32m     11\u001b[0m     \u001b[1;34m\"\"\"Compute extended BCubed precision and recall, and print the results.\"\"\"\u001b[0m\u001b[1;33m\u001b[0m\u001b[1;33m\u001b[0m\u001b[0m\n\u001b[1;32m---> 12\u001b[1;33m     \u001b[0mprecision\u001b[0m \u001b[1;33m=\u001b[0m \u001b[0mbcubed\u001b[0m\u001b[1;33m.\u001b[0m\u001b[0mprecision\u001b[0m\u001b[1;33m(\u001b[0m\u001b[0mcdict\u001b[0m\u001b[1;33m,\u001b[0m \u001b[0mldict\u001b[0m\u001b[1;33m)\u001b[0m\u001b[1;33m\u001b[0m\u001b[1;33m\u001b[0m\u001b[0m\n\u001b[0m\u001b[0;32m     13\u001b[0m     \u001b[0mrecall\u001b[0m \u001b[1;33m=\u001b[0m \u001b[0mbcubed\u001b[0m\u001b[1;33m.\u001b[0m\u001b[0mrecall\u001b[0m\u001b[1;33m(\u001b[0m\u001b[0mcdict\u001b[0m\u001b[1;33m,\u001b[0m \u001b[0mldict\u001b[0m\u001b[1;33m)\u001b[0m\u001b[1;33m\u001b[0m\u001b[1;33m\u001b[0m\u001b[0m\n\u001b[0;32m     14\u001b[0m     \u001b[0mfscore\u001b[0m \u001b[1;33m=\u001b[0m \u001b[0mbcubed\u001b[0m\u001b[1;33m.\u001b[0m\u001b[0mfscore\u001b[0m\u001b[1;33m(\u001b[0m\u001b[0mprecision\u001b[0m\u001b[1;33m,\u001b[0m \u001b[0mrecall\u001b[0m\u001b[1;33m)\u001b[0m\u001b[1;33m\u001b[0m\u001b[1;33m\u001b[0m\u001b[0m\n",
      "\u001b[1;32m~\\Anaconda3\\lib\\site-packages\\bcubed\\extended.py\u001b[0m in \u001b[0;36mprecision\u001b[1;34m(cdict, ldict)\u001b[0m\n\u001b[0;32m     43\u001b[0m     \"\"\"\n\u001b[0;32m     44\u001b[0m     return numpy.mean([numpy.mean([mult_precision(el1, el2, cdict, ldict) \\\n\u001b[1;32m---> 45\u001b[1;33m         for el2 in cdict if cdict[el1] & cdict[el2]]) for el1 in cdict])\n\u001b[0m\u001b[0;32m     46\u001b[0m \u001b[1;33m\u001b[0m\u001b[0m\n\u001b[0;32m     47\u001b[0m \u001b[1;32mdef\u001b[0m \u001b[0mrecall\u001b[0m\u001b[1;33m(\u001b[0m\u001b[0mcdict\u001b[0m\u001b[1;33m,\u001b[0m \u001b[0mldict\u001b[0m\u001b[1;33m)\u001b[0m\u001b[1;33m:\u001b[0m\u001b[1;33m\u001b[0m\u001b[1;33m\u001b[0m\u001b[0m\n",
      "\u001b[1;32m~\\Anaconda3\\lib\\site-packages\\bcubed\\extended.py\u001b[0m in \u001b[0;36m<listcomp>\u001b[1;34m(.0)\u001b[0m\n\u001b[0;32m     43\u001b[0m     \"\"\"\n\u001b[0;32m     44\u001b[0m     return numpy.mean([numpy.mean([mult_precision(el1, el2, cdict, ldict) \\\n\u001b[1;32m---> 45\u001b[1;33m         for el2 in cdict if cdict[el1] & cdict[el2]]) for el1 in cdict])\n\u001b[0m\u001b[0;32m     46\u001b[0m \u001b[1;33m\u001b[0m\u001b[0m\n\u001b[0;32m     47\u001b[0m \u001b[1;32mdef\u001b[0m \u001b[0mrecall\u001b[0m\u001b[1;33m(\u001b[0m\u001b[0mcdict\u001b[0m\u001b[1;33m,\u001b[0m \u001b[0mldict\u001b[0m\u001b[1;33m)\u001b[0m\u001b[1;33m:\u001b[0m\u001b[1;33m\u001b[0m\u001b[1;33m\u001b[0m\u001b[0m\n",
      "\u001b[1;32m~\\Anaconda3\\lib\\site-packages\\bcubed\\extended.py\u001b[0m in \u001b[0;36m<listcomp>\u001b[1;34m(.0)\u001b[0m\n\u001b[0;32m     43\u001b[0m     \"\"\"\n\u001b[0;32m     44\u001b[0m     return numpy.mean([numpy.mean([mult_precision(el1, el2, cdict, ldict) \\\n\u001b[1;32m---> 45\u001b[1;33m         for el2 in cdict if cdict[el1] & cdict[el2]]) for el1 in cdict])\n\u001b[0m\u001b[0;32m     46\u001b[0m \u001b[1;33m\u001b[0m\u001b[0m\n\u001b[0;32m     47\u001b[0m \u001b[1;32mdef\u001b[0m \u001b[0mrecall\u001b[0m\u001b[1;33m(\u001b[0m\u001b[0mcdict\u001b[0m\u001b[1;33m,\u001b[0m \u001b[0mldict\u001b[0m\u001b[1;33m)\u001b[0m\u001b[1;33m:\u001b[0m\u001b[1;33m\u001b[0m\u001b[1;33m\u001b[0m\u001b[0m\n",
      "\u001b[1;31mTypeError\u001b[0m: unsupported operand type(s) for &: 'numpy.str_' and 'numpy.str_'"
     ]
    }
   ],
   "source": [
    "\"\"\"Examples for computing extended BCubed.\n",
    "   cdict: dictionary representing a particular clustering output\n",
    "   ldict: dictionary representing the ground-truth or gold-standard data\n",
    "   Format for both dictionaries: {item: set of assigned clusters/real categories}\n",
    "   The values are sets to support overlapping clustering and ground-truth categories.\n",
    "\"\"\"\n",
    "\n",
    "import bcubed\n",
    "\n",
    "def compute(title, cdict, ldict):\n",
    "    \"\"\"Compute extended BCubed precision and recall, and print the results.\"\"\"\n",
    "    precision = bcubed.precision(cdict, ldict)\n",
    "    recall = bcubed.recall(cdict, ldict)\n",
    "    fscore = bcubed.fscore(precision, recall)\n",
    "    print(\"{}: precision={:.2f}, recall={:.2f}, fscore={:.2f}\".format(\n",
    "        title, precision, recall, fscore))\n",
    "\n",
    "compute(\"Cluster Evaluation\", clustering, ground_truth)\n",
    "\n"
   ]
  },
  {
   "cell_type": "code",
   "execution_count": null,
   "metadata": {},
   "outputs": [],
   "source": []
  }
 ],
 "metadata": {
  "kernelspec": {
   "display_name": "Python 3",
   "language": "python",
   "name": "python3"
  },
  "language_info": {
   "codemirror_mode": {
    "name": "ipython",
    "version": 3
   },
   "file_extension": ".py",
   "mimetype": "text/x-python",
   "name": "python",
   "nbconvert_exporter": "python",
   "pygments_lexer": "ipython3",
   "version": "3.7.3"
  }
 },
 "nbformat": 4,
 "nbformat_minor": 2
}
