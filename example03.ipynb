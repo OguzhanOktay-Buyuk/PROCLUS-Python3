{
 "cells": [
  {
   "cell_type": "code",
   "execution_count": 2,
   "metadata": {},
   "outputs": [
    {
     "name": "stdout",
     "output_type": "stream",
     "text": [
      "Using seed 489132\n",
      "bad medoids:\n",
      "[7146]\n",
      "old mcurr:\n",
      "[1845 7146 7285 8367]\n",
      "new mcurr:\n",
      "[1845 7285 8367 8793]\n",
      "finished iter: 1\n",
      "bad medoids:\n",
      "[1845]\n",
      "old mcurr:\n",
      "[1845 7285 8367 8793]\n",
      "new mcurr:\n",
      "[4467 7285 8367 8793]\n",
      "finished iter: 2\n",
      "bad medoids:\n",
      "[4467]\n",
      "old mcurr:\n",
      "[4467 7285 8367 8793]\n",
      "new mcurr:\n",
      "[1891 7285 8367 8793]\n",
      "finished iter: 3\n",
      "bad medoids:\n",
      "[8367]\n",
      "old mcurr:\n",
      "[1891 7285 8367 8793]\n",
      "new mcurr:\n",
      "[1891 7285 8096 8793]\n",
      "finished iter: 4\n",
      "finished iter: 5\n",
      "finished iterative phase...\n",
      "Accuracy: 1.0000\n",
      "cluster counts:\n",
      "[1891. 7285. 8096. 8793.]\n",
      "[2498, 2508, 2444, 2550]\n"
     ]
    },
    {
     "data": {
      "image/png": "[encoded data removed]",
      "text/plain": [
       "<Figure size 432x288 with 1 Axes>"
      ]
     },
     "metadata": {
      "needs_background": "light"
     },
     "output_type": "display_data"
    }
   ],
   "source": [
    "%run proclus.ipynb\n",
    "%run plotter.ipynb\n",
    "%run arffreader.ipynb\n",
    "import numpy as np\n",
    "#import adjrand\n",
    "\n",
    "X, sup = readarff(\"data/subspace_stream.arff\")\n",
    "\n",
    "Dims = [0, 3]\n",
    "# plotter.plotDataset(X, D = Dims)\n",
    "\n",
    "R = 1 # toggle run proclus\n",
    "RS = 0 # toggle use random seed\n",
    "\n",
    "if R: # run proclus\n",
    "\trseed = 489132\n",
    "\tif RS:\n",
    "\t\trseed = np.random.randint(low = 0, high = 1239831)\n",
    "\n",
    "\tprint(\"Using seed %d\" % rseed)\n",
    "\n",
    "\tM, D, A = proclus(X, k = 4, l = 2, seed = rseed, A = 30, B = 5)\n",
    "\tprint(\"Accuracy: %.4f\" % computeBasicAccuracy(A, sup))\n",
    "\t#adj = adjrand.computeAdjustedRandIndex(A, sup)\n",
    "\t#print(\"Adjusted rand index: %.4f\" % adj)\n",
    "\n",
    "\tplotClustering(X, M, A, D = Dims)"
   ]
  },
  {
   "cell_type": "code",
   "execution_count": null,
   "metadata": {},
   "outputs": [],
   "source": []
  },
  {
   "cell_type": "code",
   "execution_count": null,
   "metadata": {},
   "outputs": [],
   "source": []
  }
 ],
 "metadata": {
  "kernelspec": {
   "display_name": "Python 3",
   "language": "python",
   "name": "python3"
  },
  "language_info": {
   "codemirror_mode": {
    "name": "ipython",
    "version": 3
   },
   "file_extension": ".py",
   "mimetype": "text/x-python",
   "name": "python",
   "nbconvert_exporter": "python",
   "pygments_lexer": "ipython3",
   "version": "3.7.3"
  }
 },
 "nbformat": 4,
 "nbformat_minor": 2
}
