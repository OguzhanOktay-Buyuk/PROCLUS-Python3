{
 "cells": [
  {
   "cell_type": "code",
   "execution_count": 2,
   "metadata": {},
   "outputs": [],
   "source": [
    "# A simple arff reader\n",
    "#\n",
    "# Author: Cassio M. M. Pereira\n",
    "\n",
    "import numpy as np\n",
    "import re\n",
    "\n",
    "def readarff(fileName, supervision = True):\n",
    "\t\"\"\" Basic reader for arff files. If supervision = true,\n",
    "\t\ttreat the last dimension as the supervision and return\n",
    "\t\tit separately.\n",
    "\t\"\"\"\n",
    "\n",
    "\tf = open(fileName, 'r')\n",
    "\tndim = len(re.findall(\"@attribute\", f.read())) # try to guess the number of dimensions\n",
    "\tf.close()\n",
    "\n",
    "\tif supervision:\n",
    "\t\tX = customload(fileName, usecols = np.arange(ndim - 1))\n",
    "\t\ttry:\n",
    "\t\t\tsupervision = customload(fileName, usecols = [ndim - 1]).astype(np.int)\n",
    "\t\texcept:\n",
    "\t\t\tsupervision = customload(fileName, usecols = [ndim - 1], dtype = np.str)\n",
    "\t\t\tsupu = np.unique(supervision)\n",
    "\t\t\tsupervision = np.array([np.where(supu == i)[0] for i in supervision]).astype(np.int)\n",
    "\t\treturn (X, supervision)\n",
    "\telse:\n",
    "\t\treturn customload(fileName, usecols = None)\n",
    "\n",
    "def customload(fileName, usecols, dtype = np.double):\n",
    "\treturn np.loadtxt(fileName, dtype = dtype, comments = '@', delimiter = ',', usecols = usecols)\n"
   ]
  },
  {
   "cell_type": "code",
   "execution_count": null,
   "metadata": {},
   "outputs": [],
   "source": []
  }
 ],
 "metadata": {
  "kernelspec": {
   "display_name": "Python 3",
   "language": "python",
   "name": "python3"
  },
  "language_info": {
   "codemirror_mode": {
    "name": "ipython",
    "version": 3
   },
   "file_extension": ".py",
   "mimetype": "text/x-python",
   "name": "python",
   "nbconvert_exporter": "python",
   "pygments_lexer": "ipython3",
   "version": "3.7.3"
  }
 },
 "nbformat": 4,
 "nbformat_minor": 2
}
